{
 "cells": [
  {
   "cell_type": "code",
   "execution_count": null,
   "metadata": {},
   "outputs": [],
   "source": [
    "### Install Dash\n",
    "!pip install dash-html-components==1.0.1  # HTML components\n",
    "!pip install dash-core-components==1.3.1  # Supercharged components\n",
    "!pip install dash-table==4.4.1  # Interactive DataTable component (new!)\n",
    "!pip install dash==1.4.1  # The core dash backend\n",
    "!pip install dash-daq==0.2.1\n",
    "!pip install dash-bootstrap-components"
   ]
  },
  {
   "cell_type": "code",
   "execution_count": 1,
   "metadata": {},
   "outputs": [],
   "source": [
    "import pandas as pd\n",
    "import numpy as np\n",
    "import jupyterlab_dash\n",
    "import dash\n",
    "import dash_html_components as html\n",
    "import dash_core_components as dcc\n",
    "import dash_bootstrap_components as dbc\n",
    "from jupyterlab_dash import AppViewer\n",
    "from dash.dependencies import Input, Output\n",
    "import plotly.graph_objs as go\n",
    "\n",
    "df_dash=pd.read_csv(\"https://github.com/romaind44/projet-3-movies/raw/master/df_voisins_vf_non_pondere.csv\")"
   ]
  },
  {
   "cell_type": "code",
   "execution_count": null,
   "metadata": {},
   "outputs": [],
   "source": [
    "            html.Tr([html.Td(id='lib')],[html.Td(id='lib')],[html.Td(id='lib')], [html.Td(id='lib')],[html.Td(id='lib')]),\n",
    "            html.Tr([html.Td(id='sea')], [html.Td(id='sea')], [html.Td(id='sea')], [html.Td(id='sea')],[html.Td(id='sea')]),\n",
    "            html.Tr([html.Td(id='top1')],[html.Td(id='top1')],[html.Td(id='top1')],[html.Td(id='top1')],[html.Td(id='top1')]),\n",
    "            html.Tr([html.Td(id='top2')],[html.Td(id='top2')],[html.Td(id='top2')],[html.Td(id='top2')],[html.Td(id='top2')]),\n",
    "            html.Tr([html.Td(id='top3')],[html.Td(id='top3')],[html.Td(id='top3')],[html.Td(id='top3')],[html.Td(id='top3')]),\n",
    "            html.Tr([html.Td(id='top4')],[html.Td(id='top4')],[html.Td(id='top4')],[html.Td(id='top4')],[html.Td(id='top4')]),\n",
    "            html.Tr([html.Td(id='top5')],[html.Td(id='top5')],[html.Td(id='top5')],[html.Td(id='top5')],[html.Td(id='top5')])\n",
    "            ]),\n",
    "                "
   ]
  },
  {
   "cell_type": "code",
   "execution_count": 15,
   "metadata": {},
   "outputs": [
    {
     "data": {
      "text/plain": [
       "Index(['voisins', 'Search', 'Voisin1', 'Voisin2', 'Voisin3', 'Voisin4',\n",
       "       'Voisin5', 'movieId', 'tag', 'ratings_mean', 'imdbId_y', 'actor',\n",
       "       'director', 'primaryTitle', 'budget', 'original_language', 'popularity',\n",
       "       'production_companies', 'production_countries', 'revenue', 'runtime',\n",
       "       'vote_average', 'titleType', 'Year', 'decade', 'genre'],\n",
       "      dtype='object')"
      ]
     },
     "execution_count": 15,
     "metadata": {},
     "output_type": "execute_result"
    }
   ],
   "source": [
    "df_dash.columns"
   ]
  },
  {
   "cell_type": "code",
   "execution_count": null,
   "metadata": {},
   "outputs": [],
   "source": [
    "# ELIZABETH le bon code est dasn cette fenêtre\n",
    "#Pour la visualisation dans Dash\n",
    "\n",
    "viewer = jupyterlab_dash.AppViewer()\n",
    "\n",
    "liste_total_titre=df_dash['primaryTitle'].tolist()\n",
    "#ou list(numpy.unique(df_dash['primaryTitle'])\n",
    "\n",
    "# Configuration\n",
    "#intial style --- external_stylesheets = ['https://codepen.io/chriddyp/pen/bWLwgP.css']\n",
    "external_stylesheets = ['https://codepen.io/romaind44/pen/gOaNgvW.css']\n",
    "app = dash.Dash(__name__, external_stylesheets=external_stylesheets)\n",
    "\n",
    "# Headline and description\n",
    "headline = 'POC : moteur de recommandations de films'\n",
    "description = '''\n",
    "                  Ce mini-dashboard web à destination de vos collaborateurs. Il a \n",
    "                  pour vocation d'évaluer la pertinence de notre solution avant deploiement\n",
    "              '''\n",
    "\n",
    "#Background\n",
    "\n",
    "#colors = {'background': '#888CF3', 'text': 'white'}\n",
    "#'backgroundColor': colors['background']\n",
    "\n",
    "app.layout = html.Div([\n",
    "    html.H1(children=headline, style={'text-align':'center'}), \n",
    "    # Position 0, headline\n",
    "    html.Div(children=description, style={'width':'90%'}), \n",
    "    # Position 1, descritption\n",
    "    html.Div([html.H4(''),\n",
    "    # Position 3, espace\n",
    "    html.Datalist(id='list-suggested-inputs', children=[html.Option(value=i) for i in liste_total_titre]),\n",
    "    html.Div([\n",
    "            html.P(\"Selectionner un film pour le test :\"),\n",
    "            html.H5(''),\n",
    "            dcc.Input(placeholder=\"Taper ici le nom du film...\", style={'width': '90%',  'height':'30px'},\n",
    "                     id='moviesearch', type='text', list='list-suggested-inputs'),\n",
    "            #html.P(' '),\n",
    "            #html.P(id='lib'),\n",
    "            html.Table([\n",
    "            html.Tr([html.Td(id='sea'), html.Td(id='genre0'), html.Td(id='actor0'), html.Td(id='prod0'), html.Td(id='tag0')]),\n",
    "            html.Tr([html.Td(id='sea'), html.Td(id='genre0'), html.Td(id='actor0'), html.Td(id='prod0'), html.Td(id='tag0')]),\n",
    "            html.Tr([html.Td(id='top1'),html.Td(id='genre1'), html.Td(id='actor1'), html.Td(id='prod1'), html.Td(id='tag1')]),\n",
    "            html.Tr([html.Td(id='top2'),html.Td(id='genre2'), html.Td(id='actor2'), html.Td(id='prod2'), html.Td(id='tag2')]),\n",
    "            html.Tr([html.Td(id='top3'),html.Td(id='genre3'), html.Td(id='actor3'), html.Td(id='prod3'), html.Td(id='tag3')]),\n",
    "            html.Tr([html.Td(id='top4'),html.Td(id='genre4'), html.Td(id='actor4'), html.Td(id='prod4'), html.Td(id='tag4')]),\n",
    "            html.Tr([html.Td(id='top5'),html.Td(id='genre5'), html.Td(id='actor5'), html.Td(id='prod5'), html.Td(id='tag5')])\n",
    "            ],style={'width':'160%'}),\n",
    "                \n",
    "#            html.Hr(''),\n",
    "#            html.P(''),\n",
    "    # Position 4, input              \n",
    "            ], \n",
    "        style={'width':'60%', 'display': 'inline-block','vertical-align': 'middle'})\n",
    "              \n",
    "    ])\n",
    "\n",
    "])\n",
    "  \n",
    "@app.callback(\n",
    "    [Output('sea', 'children'),Output('top1', 'children'),Output('top2', 'children'),Output('top3', 'children'),Output('top4', 'children'),Output('top5', 'children'),\n",
    "     Output('genre0', 'children'),Output('genre1', 'children'),Output('genre2', 'children'),Output('genre3', 'children'),Output('genre4', 'children'),Output('genre5', 'children'),\n",
    "     Output('actor0', 'children'),Output('actor1', 'children'),Output('actor2', 'children'),Output('actor3', 'children'),Output('actor4', 'children'),Output('actor5', 'children'),\n",
    "     Output('prod0', 'children'),Output('prod1', 'children'),Output('prod2', 'children'),Output('prod3', 'children'),Output('prod4', 'children'),Output('prod5', 'children'),\n",
    "     Output('tag0', 'children'),Output('tag1', 'children'),Output('tag2', 'children'),Output('tag3', 'children'),Output('tag4', 'children'),Output('tag5', 'children'),\n",
    "    ],\n",
    "    [Input('moviesearch', 'value')])\n",
    "def update_movies_input(moviesearch):\n",
    "    #if moviesearch is not None and moviesearch is not '':\n",
    "     #   try:  \n",
    "            col=['Search','Voisin1','Voisin2','Voisin3','Voisin4','Voisin5']\n",
    "            num_knn=df_dash.loc[df_dash['primaryTitle'].isin([moviesearch]), col].values\n",
    "            top,g,a,p,t=[],[],[],[],[]\n",
    "            n=num_knn.tolist()\n",
    "            val=[item for elem in n for item in elem]\n",
    "            for i in range(len(val)):\n",
    "                titre=df_dash['primaryTitle'][val[i]]\n",
    "                genre=df_dash['genre'][val[i]]\n",
    "                actor=df_dash['actor'][val[i]]\n",
    "                prod=df_dash['director'][val[i]]\n",
    "                tag=df_dash['tag'][val[i]]\n",
    "                top.append(titre),g.append(genre),a.append(actor),p.append(prod),t.append(tag)\n",
    "            return txte[0],top[0],top[1],top[2],top[3],top[4],top[5],txte[1],str(g[0]).replace(\"'\",''),str(g[1]).replace(\"'\",''),str(g[2]).replace(\"'\",''),str(g[3]).replace(\"'\",''),str(g[4]).replace(\"'\",''),str(g[5]).replace(\"'\",''),txte[2],str(a[0]).replace(\"'\",''),str(a[1]).replace(\"'\",''),str(a[2]).replace(\"'\",''),str(a[3]).replace(\"'\",''),str(a[4]).replace(\"'\",''),str(a[5]).replace(\"'\",''),str(p[0]).replace(\"'\",''),txte[3],str(p[1]).replace(\"'\",''),str(p[2]).replace(\"'\",''),str(p[3]).replace(\"'\",''),str(p[4]).replace(\"'\",''),str(p[5]).replace(\"'\",''),str(t[0]).replace(\"'\",''),str(t[1]).replace(\"'\",''),str(t[2]).replace(\"'\",''),str(t[3]).replace(\"'\",''),str(t[4]).replace(\"'\",''),str(t[5]).replace(\"'\",'')\n",
    "     \n",
    "            #return 'Voici la liste de 5 films que nous vous proposons: {}'.format(top5)\n",
    "           \n",
    "        \n",
    "        #except ValueError:\n",
    "        #    return 'Ce Film est mal ortographié ou ne figure pas dans notre dataset de départ'\n",
    " \n",
    "\n",
    "viewer.show(app)"
   ]
  },
  {
   "cell_type": "code",
   "execution_count": null,
   "metadata": {},
   "outputs": [],
   "source": []
  },
  {
   "cell_type": "code",
   "execution_count": null,
   "metadata": {},
   "outputs": [],
   "source": [
    "        html.I(\"Try typing in input 1 & 2, and observe how debounce is impacting the callbacks. Press Enter and/or Tab key in Input 2 to cancel the delay\"),\n",
    "        html.Br(),\n",
    "        dcc.Input(id=\"input1\", type=\"text\", placeholder=\"\"),\n",
    "        dcc.Input(id=\"input2\", type=\"text\", placeholder=\"\", debounce=True),\n",
    "        html.Div(id=\"output\"),\n",
    "    ]\n",
    ")\n",
    "\n",
    "\n",
    "@app.callback(\n",
    "    Output(\"output\", \"children\"),\n",
    "    [Input(\"input1\", \"value\"), Input(\"input2\", \"value\")]     "
   ]
  },
  {
   "cell_type": "code",
   "execution_count": null,
   "metadata": {},
   "outputs": [],
   "source": [
    "    html.Div([\n",
    "    html.Div([\n",
    "        html.H3('Column 1'),\n",
    "        dcc.Graph(id='g1', figure={'data': [{'y': [1, 2, 3]}]})\n",
    "    ], className=\"six columns\"),\n",
    "\n",
    "    html.Div([\n",
    "        html.H3('Column 2'),\n",
    "        dcc.Graph(id='g2', figure={'data': [{'y': [1, 2, 3]}]})\n",
    "    ], className=\"six columns\"),\n",
    "    ], className=\"row\")"
   ]
  },
  {
   "cell_type": "code",
   "execution_count": null,
   "metadata": {},
   "outputs": [],
   "source": [
    "@app.callback(\n",
    "    Output(component_id='knn', component_property='children'),\n",
    "    [Input(component_id='moviesearch', component_property='value')])"
   ]
  },
  {
   "cell_type": "code",
   "execution_count": null,
   "metadata": {},
   "outputs": [],
   "source": [
    "            html.Tr([html.Td(id='lib')],[html.Td(id='lib')],[html.Td(id='lib')], [html.Td(id='lib')],[html.Td(id='lib')]),\n",
    "            html.Tr([html.Td(id='sea')], [html.Td(id='sea')], [html.Td(id='sea')], [html.Td(id='sea')],[html.Td(id='sea')]),\n",
    "            html.Tr([html.Td(id='top1')],[html.Td(id='top1')],[html.Td(id='top1')],[html.Td(id='top1')],[html.Td(id='top1')]),\n",
    "            html.Tr([html.Td(id='top2')],[html.Td(id='top2')],[html.Td(id='top2')],[html.Td(id='top2')],[html.Td(id='top2')]),\n",
    "            html.Tr([html.Td(id='top3')],[html.Td(id='top3')],[html.Td(id='top3')],[html.Td(id='top3')],[html.Td(id='top3')]),\n",
    "            html.Tr([html.Td(id='top4')],[html.Td(id='top4')],[html.Td(id='top4')],[html.Td(id='top4')],[html.Td(id='top4')]),\n",
    "            html.Tr([html.Td(id='top5')],[html.Td(id='top5')],[html.Td(id='top5')],[html.Td(id='top5')],[html.Td(id='top5')])\n",
    "            ]),\n",
    "                "
   ]
  }
 ],
 "metadata": {
  "kernelspec": {
   "display_name": "Python 3",
   "language": "python",
   "name": "python3"
  },
  "language_info": {
   "codemirror_mode": {
    "name": "ipython",
    "version": 3
   },
   "file_extension": ".py",
   "mimetype": "text/x-python",
   "name": "python",
   "nbconvert_exporter": "python",
   "pygments_lexer": "ipython3",
   "version": "3.7.4"
  }
 },
 "nbformat": 4,
 "nbformat_minor": 4
}
